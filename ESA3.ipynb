{
 "cells": [
  {
   "attachments": {},
   "cell_type": "markdown",
   "metadata": {},
   "source": [
    "Aufgabe 1: Funktion count_letter"
   ]
  },
  {
   "cell_type": "code",
   "execution_count": 47,
   "metadata": {},
   "outputs": [],
   "source": [
    "from collections import Counter\n",
    "\n",
    "def count_letter(a):\n",
    "    if isinstance(a, str):\n",
    "        a = a.replace(\" \", \"\")\n",
    "        character_count = Counter(a)\n",
    "        return character_count\n",
    "    else:\n",
    "        return {\"Error\" : \"Keine Buchstaben eingegeben\"}"
   ]
  },
  {
   "cell_type": "code",
   "execution_count": 48,
   "metadata": {},
   "outputs": [
    {
     "name": "stdout",
     "output_type": "stream",
     "text": [
      "{'Error': 'Keine '\n",
      "          'Buchstaben '\n",
      "          'eingegeben'}\n"
     ]
    }
   ],
   "source": [
    "import pprint\n",
    "\n",
    "a = 2\n",
    "pprint.pprint(dict(count_letter(a)),width=1)"
   ]
  },
  {
   "attachments": {},
   "cell_type": "markdown",
   "metadata": {},
   "source": [
    "Aufgabe 3: How to use list slice and index to get [2,4,1] from the list: number = [1,2,3,4,5]"
   ]
  },
  {
   "cell_type": "code",
   "execution_count": 49,
   "metadata": {},
   "outputs": [
    {
     "name": "stdout",
     "output_type": "stream",
     "text": [
      "[2, 1, 4]\n"
     ]
    }
   ],
   "source": [
    "numbers = [1,2,3,4,5]\n",
    "help = numbers[0:2:]\n",
    "help.reverse()\n",
    "help.insert(2,numbers.pop(3))\n",
    "print(help)"
   ]
  }
 ],
 "metadata": {
  "kernelspec": {
   "display_name": "base",
   "language": "python",
   "name": "python3"
  },
  "language_info": {
   "codemirror_mode": {
    "name": "ipython",
    "version": 3
   },
   "file_extension": ".py",
   "mimetype": "text/x-python",
   "name": "python",
   "nbconvert_exporter": "python",
   "pygments_lexer": "ipython3",
   "version": "3.10.9"
  },
  "orig_nbformat": 4
 },
 "nbformat": 4,
 "nbformat_minor": 2
}
